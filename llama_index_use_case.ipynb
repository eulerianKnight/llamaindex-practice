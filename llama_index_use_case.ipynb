{
 "cells": [
  {
   "cell_type": "code",
   "execution_count": 1,
   "id": "initial_id",
   "metadata": {
    "collapsed": true,
    "ExecuteTime": {
     "end_time": "2023-09-27T14:10:50.774287200Z",
     "start_time": "2023-09-27T14:10:40.764148Z"
    }
   },
   "outputs": [
    {
     "name": "stderr",
     "output_type": "stream",
     "text": [
      "Cloning into 'llama_index'...\n",
      "Updating files:  46% (664/1413)\n",
      "Updating files:  47% (665/1413)\n",
      "Updating files:  48% (679/1413)\n",
      "Updating files:  49% (693/1413)\n",
      "Updating files:  50% (707/1413)\n",
      "Updating files:  51% (721/1413)\n",
      "Updating files:  52% (735/1413)\n",
      "Updating files:  53% (749/1413)\n",
      "Updating files:  54% (764/1413)\n",
      "Updating files:  55% (778/1413)\n",
      "Updating files:  56% (792/1413)\n",
      "Updating files:  57% (806/1413)\n",
      "Updating files:  58% (820/1413)\n",
      "Updating files:  59% (834/1413)\n",
      "Updating files:  60% (848/1413)\n",
      "Updating files:  61% (862/1413)\n",
      "Updating files:  62% (877/1413)\n",
      "Updating files:  63% (891/1413)\n",
      "Updating files:  64% (905/1413)\n",
      "Updating files:  65% (919/1413)\n",
      "Updating files:  66% (933/1413)\n",
      "Updating files:  67% (947/1413)\n",
      "Updating files:  68% (961/1413)\n",
      "Updating files:  69% (975/1413)\n",
      "Updating files:  70% (990/1413)\n",
      "Updating files:  71% (1004/1413)\n",
      "Updating files:  72% (1018/1413)\n",
      "Updating files:  73% (1032/1413)\n",
      "Updating files:  74% (1046/1413)\n",
      "Updating files:  75% (1060/1413)\n",
      "Updating files:  76% (1074/1413)\n",
      "Updating files:  77% (1089/1413)\n",
      "Updating files:  78% (1103/1413)\n",
      "Updating files:  79% (1117/1413)\n",
      "Updating files:  80% (1131/1413)\n",
      "Updating files:  81% (1145/1413)\n",
      "Updating files:  82% (1159/1413)\n",
      "Updating files:  83% (1173/1413)\n",
      "Updating files:  84% (1187/1413)\n",
      "Updating files:  85% (1202/1413)\n",
      "Updating files:  86% (1216/1413)\n",
      "Updating files:  87% (1230/1413)\n",
      "Updating files:  88% (1244/1413)\n",
      "Updating files:  89% (1258/1413)\n",
      "Updating files:  90% (1272/1413)\n",
      "Updating files:  91% (1286/1413)\n",
      "Updating files:  92% (1300/1413)\n",
      "Updating files:  93% (1315/1413)\n",
      "Updating files:  94% (1329/1413)\n",
      "Updating files:  95% (1343/1413)\n",
      "Updating files:  96% (1357/1413)\n",
      "Updating files:  97% (1371/1413)\n",
      "Updating files:  98% (1385/1413)\n",
      "Updating files:  99% (1399/1413)\n",
      "Updating files: 100% (1413/1413)\n",
      "Updating files: 100% (1413/1413), done.\n"
     ]
    }
   ],
   "source": [
    "!git clone https://github.com/jerryjliu/llama_index.git"
   ]
  },
  {
   "cell_type": "code",
   "execution_count": null,
   "outputs": [],
   "source": [],
   "metadata": {
    "collapsed": false
   },
   "id": "e8a876111d7f6c6f"
  }
 ],
 "metadata": {
  "kernelspec": {
   "display_name": "Python 3",
   "language": "python",
   "name": "python3"
  },
  "language_info": {
   "codemirror_mode": {
    "name": "ipython",
    "version": 2
   },
   "file_extension": ".py",
   "mimetype": "text/x-python",
   "name": "python",
   "nbconvert_exporter": "python",
   "pygments_lexer": "ipython2",
   "version": "2.7.6"
  }
 },
 "nbformat": 4,
 "nbformat_minor": 5
}
